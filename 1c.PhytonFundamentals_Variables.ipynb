{
 "cells": [
  {
   "cell_type": "code",
   "execution_count": 1,
   "id": "aa106b92-065b-454f-9346-c6f8225f346d",
   "metadata": {},
   "outputs": [],
   "source": [
    "#Variables"
   ]
  },
  {
   "cell_type": "code",
   "execution_count": 7,
   "id": "0ec5a5a9-6760-45dc-bf61-3f08b45fc2cb",
   "metadata": {},
   "outputs": [],
   "source": [
    "apples = 8"
   ]
  },
  {
   "cell_type": "code",
   "execution_count": 8,
   "id": "8bd28267-6d36-4573-8597-d26082ad3793",
   "metadata": {},
   "outputs": [],
   "source": [
    "oranges = 2"
   ]
  },
  {
   "cell_type": "code",
   "execution_count": 13,
   "id": "8aade8d0-0a8c-41cd-95b8-407c49377473",
   "metadata": {},
   "outputs": [
    {
     "data": {
      "text/plain": [
       "8"
      ]
     },
     "execution_count": 13,
     "metadata": {},
     "output_type": "execute_result"
    }
   ],
   "source": [
    "apples"
   ]
  },
  {
   "cell_type": "code",
   "execution_count": 14,
   "id": "fb692781-28df-472c-8e99-0fced9cd3dcb",
   "metadata": {},
   "outputs": [
    {
     "data": {
      "text/plain": [
       "2"
      ]
     },
     "execution_count": 14,
     "metadata": {},
     "output_type": "execute_result"
    }
   ],
   "source": [
    "oranges"
   ]
  },
  {
   "cell_type": "code",
   "execution_count": 18,
   "id": "4ab3f0fa-d88e-4750-8adf-ec76014664f1",
   "metadata": {},
   "outputs": [],
   "source": [
    "fruits = apples + oranges"
   ]
  },
  {
   "cell_type": "code",
   "execution_count": 19,
   "id": "3de49495-b81c-42c3-904f-368f20d76cfa",
   "metadata": {},
   "outputs": [
    {
     "data": {
      "text/plain": [
       "10"
      ]
     },
     "execution_count": 19,
     "metadata": {},
     "output_type": "execute_result"
    }
   ],
   "source": [
    "fruits"
   ]
  },
  {
   "cell_type": "code",
   "execution_count": null,
   "id": "cd65de61-fbb0-42e7-b255-2c78d9178e3e",
   "metadata": {},
   "outputs": [],
   "source": []
  }
 ],
 "metadata": {
  "kernelspec": {
   "display_name": "Python 3 (ipykernel)",
   "language": "python",
   "name": "python3"
  },
  "language_info": {
   "codemirror_mode": {
    "name": "ipython",
    "version": 3
   },
   "file_extension": ".py",
   "mimetype": "text/x-python",
   "name": "python",
   "nbconvert_exporter": "python",
   "pygments_lexer": "ipython3",
   "version": "3.9.12"
  }
 },
 "nbformat": 4,
 "nbformat_minor": 5
}
