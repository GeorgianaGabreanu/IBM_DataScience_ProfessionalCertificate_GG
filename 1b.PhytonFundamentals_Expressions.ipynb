{
 "cells": [
  {
   "cell_type": "code",
   "execution_count": 1,
   "id": "248d40ad-21de-4160-8d9a-65eb31766fc9",
   "metadata": {},
   "outputs": [],
   "source": [
    "#Expressions: Mathematical operations"
   ]
  },
  {
   "cell_type": "code",
   "execution_count": 11,
   "id": "cad4ddf3-d99b-4cf5-bfb2-5e6ab5100880",
   "metadata": {},
   "outputs": [
    {
     "data": {
      "text/plain": [
       "139"
      ]
     },
     "execution_count": 11,
     "metadata": {},
     "output_type": "execute_result"
    }
   ],
   "source": [
    "# Addition operation expression\n",
    "3+4+78+54"
   ]
  },
  {
   "cell_type": "code",
   "execution_count": 12,
   "id": "6ee7b91c-c9a5-483f-be59-3798c14bda36",
   "metadata": {},
   "outputs": [
    {
     "data": {
      "text/plain": [
       "83"
      ]
     },
     "execution_count": 12,
     "metadata": {},
     "output_type": "execute_result"
    }
   ],
   "source": [
    "# Subtraction operation expression\n",
    "139-56"
   ]
  },
  {
   "cell_type": "code",
   "execution_count": 3,
   "id": "a67a8c24-b6f3-472b-9430-0e5c501a3b6d",
   "metadata": {},
   "outputs": [
    {
     "data": {
      "text/plain": [
       "-20"
      ]
     },
     "execution_count": 3,
     "metadata": {},
     "output_type": "execute_result"
    }
   ],
   "source": [
    "50-70"
   ]
  },
  {
   "cell_type": "code",
   "execution_count": 13,
   "id": "f2910b9e-4de2-4a59-a769-199c61342270",
   "metadata": {},
   "outputs": [
    {
     "data": {
      "text/plain": [
       "56"
      ]
     },
     "execution_count": 13,
     "metadata": {},
     "output_type": "execute_result"
    }
   ],
   "source": [
    "# Multiplication operation expression\n",
    "7*8"
   ]
  },
  {
   "cell_type": "code",
   "execution_count": 6,
   "id": "1eb8be93-d26c-4e66-9d77-f82003897574",
   "metadata": {},
   "outputs": [
    {
     "data": {
      "text/plain": [
       "13.0"
      ]
     },
     "execution_count": 6,
     "metadata": {},
     "output_type": "execute_result"
    }
   ],
   "source": [
    "# Division operation expression\n",
    "78/6"
   ]
  },
  {
   "cell_type": "code",
   "execution_count": 7,
   "id": "f648284d-2daf-432f-9443-e3936d3385dc",
   "metadata": {},
   "outputs": [
    {
     "data": {
      "text/plain": [
       "9.666666666666666"
      ]
     },
     "execution_count": 7,
     "metadata": {},
     "output_type": "execute_result"
    }
   ],
   "source": [
    "87/9"
   ]
  },
  {
   "cell_type": "code",
   "execution_count": 8,
   "id": "1a3b12e8-f37d-4c4e-8842-29a57001f321",
   "metadata": {},
   "outputs": [],
   "source": [
    "# Integer division operation expression\n",
    "# double slash rounds the result to an integer"
   ]
  },
  {
   "cell_type": "code",
   "execution_count": 10,
   "id": "98886e6a-4aea-48bc-920a-c3eb63d448b8",
   "metadata": {},
   "outputs": [
    {
     "data": {
      "text/plain": [
       "9"
      ]
     },
     "execution_count": 10,
     "metadata": {},
     "output_type": "execute_result"
    }
   ],
   "source": [
    "87//9"
   ]
  },
  {
   "cell_type": "code",
   "execution_count": null,
   "id": "2b5e1ce4-58c0-4fe5-8f8c-c49203ef416a",
   "metadata": {},
   "outputs": [],
   "source": []
  }
 ],
 "metadata": {
  "kernelspec": {
   "display_name": "Python 3 (ipykernel)",
   "language": "python",
   "name": "python3"
  },
  "language_info": {
   "codemirror_mode": {
    "name": "ipython",
    "version": 3
   },
   "file_extension": ".py",
   "mimetype": "text/x-python",
   "name": "python",
   "nbconvert_exporter": "python",
   "pygments_lexer": "ipython3",
   "version": "3.9.12"
  }
 },
 "nbformat": 4,
 "nbformat_minor": 5
}
