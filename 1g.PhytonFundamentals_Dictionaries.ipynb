{
 "cells": [
  {
   "cell_type": "code",
   "execution_count": 1,
   "id": "b4d672c9-8cf3-4458-922d-c057bce0813a",
   "metadata": {},
   "outputs": [],
   "source": [
    "# Dictionaries - curly brakets\n",
    "# ordered\n",
    "# key and value pairs separated by a coma\n",
    "# immutable and unique keys \n",
    "# values can be immutable, mutable and duplicates"
   ]
  },
  {
   "cell_type": "code",
   "execution_count": 2,
   "id": "9161d465-c3e4-4951-89c3-32930036cb82",
   "metadata": {},
   "outputs": [],
   "source": [
    "Pacient_1 = {\"Age\":36, \"Pathology\":\"Lung cancer\", \"Smoking\":\"Yes\"} "
   ]
  },
  {
   "cell_type": "code",
   "execution_count": 5,
   "id": "008ec57b-88a6-472c-a32e-2e0da42df7d2",
   "metadata": {},
   "outputs": [
    {
     "data": {
      "text/plain": [
       "dict"
      ]
     },
     "execution_count": 5,
     "metadata": {},
     "output_type": "execute_result"
    }
   ],
   "source": [
    "type(Pacient_1)"
   ]
  },
  {
   "cell_type": "code",
   "execution_count": 6,
   "id": "424137f7-e132-46f8-ba6f-b34e889669dd",
   "metadata": {},
   "outputs": [
    {
     "data": {
      "text/plain": [
       "{'Age': 36, 'Pathology': 'Lung cancer', 'Smoking': 'Yes'}"
      ]
     },
     "execution_count": 6,
     "metadata": {},
     "output_type": "execute_result"
    }
   ],
   "source": [
    "Pacient_1"
   ]
  },
  {
   "cell_type": "code",
   "execution_count": 8,
   "id": "487aa558-15ae-4426-80ed-df93781f709c",
   "metadata": {},
   "outputs": [
    {
     "data": {
      "text/plain": [
       "'Lung cancer'"
      ]
     },
     "execution_count": 8,
     "metadata": {},
     "output_type": "execute_result"
    }
   ],
   "source": [
    "Pacient_1[\"Pathology\"]"
   ]
  },
  {
   "cell_type": "code",
   "execution_count": 9,
   "id": "7325991d-138f-4a1c-8191-151a46ddd9a9",
   "metadata": {},
   "outputs": [],
   "source": [
    "Pacient_1[\"Alchohol consumption\"]= \"moderate\""
   ]
  },
  {
   "cell_type": "code",
   "execution_count": 10,
   "id": "643d32bf-3236-461c-b336-364f8fe03211",
   "metadata": {},
   "outputs": [
    {
     "data": {
      "text/plain": [
       "{'Age': 36,\n",
       " 'Pathology': 'Lung cancer',\n",
       " 'Smoking': 'Yes',\n",
       " 'Alchohol consumption': 'moderate'}"
      ]
     },
     "execution_count": 10,
     "metadata": {},
     "output_type": "execute_result"
    }
   ],
   "source": [
    "Pacient_1"
   ]
  },
  {
   "cell_type": "code",
   "execution_count": 12,
   "id": "eebeee65-69c9-426d-a6b5-8631a4aa5c87",
   "metadata": {},
   "outputs": [],
   "source": [
    "del(Pacient_1[\"Alchohol consumption\"])"
   ]
  },
  {
   "cell_type": "code",
   "execution_count": 13,
   "id": "09c55173-9a99-4025-887c-e589ed200b50",
   "metadata": {},
   "outputs": [
    {
     "data": {
      "text/plain": [
       "{'Age': 36, 'Pathology': 'Lung cancer', 'Smoking': 'Yes'}"
      ]
     },
     "execution_count": 13,
     "metadata": {},
     "output_type": "execute_result"
    }
   ],
   "source": [
    "Pacient_1"
   ]
  },
  {
   "cell_type": "code",
   "execution_count": 14,
   "id": "1f50edff-2d9b-4163-b6c1-c50cb18db679",
   "metadata": {},
   "outputs": [
    {
     "data": {
      "text/plain": [
       "True"
      ]
     },
     "execution_count": 14,
     "metadata": {},
     "output_type": "execute_result"
    }
   ],
   "source": [
    "# verify if a key is in the dictionary\n",
    "\"Pathology\" in Pacient_1"
   ]
  },
  {
   "cell_type": "code",
   "execution_count": 15,
   "id": "ad061d70-a729-4fcc-a5e4-333ae739c5a7",
   "metadata": {},
   "outputs": [
    {
     "data": {
      "text/plain": [
       "False"
      ]
     },
     "execution_count": 15,
     "metadata": {},
     "output_type": "execute_result"
    }
   ],
   "source": [
    "# verify if a key is in the dictionary\n",
    "\"Diet\" in Pacient_1"
   ]
  },
  {
   "cell_type": "code",
   "execution_count": 16,
   "id": "6a24d8bd-bc40-4b73-99e7-34ff0be52fce",
   "metadata": {},
   "outputs": [
    {
     "data": {
      "text/plain": [
       "dict_keys(['Age', 'Pathology', 'Smoking'])"
      ]
     },
     "execution_count": 16,
     "metadata": {},
     "output_type": "execute_result"
    }
   ],
   "source": [
    "# to see all the keys in the dictionary\n",
    "Pacient_1.keys()"
   ]
  },
  {
   "cell_type": "code",
   "execution_count": 18,
   "id": "090601c6-c10e-4f41-8644-868e3c9e7a56",
   "metadata": {},
   "outputs": [
    {
     "data": {
      "text/plain": [
       "dict_values([36, 'Lung cancer', 'Yes'])"
      ]
     },
     "execution_count": 18,
     "metadata": {},
     "output_type": "execute_result"
    }
   ],
   "source": [
    "# to see all the values in the dictionary\n",
    "Pacient_1.values()"
   ]
  },
  {
   "cell_type": "code",
   "execution_count": null,
   "id": "d9563f58-e266-4b03-bb8c-68235e884c2e",
   "metadata": {},
   "outputs": [],
   "source": []
  }
 ],
 "metadata": {
  "kernelspec": {
   "display_name": "Python 3 (ipykernel)",
   "language": "python",
   "name": "python3"
  },
  "language_info": {
   "codemirror_mode": {
    "name": "ipython",
    "version": 3
   },
   "file_extension": ".py",
   "mimetype": "text/x-python",
   "name": "python",
   "nbconvert_exporter": "python",
   "pygments_lexer": "ipython3",
   "version": "3.9.12"
  }
 },
 "nbformat": 4,
 "nbformat_minor": 5
}
