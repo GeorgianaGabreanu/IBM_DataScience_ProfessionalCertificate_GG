{
 "cells": [
  {
   "cell_type": "code",
   "execution_count": 2,
   "id": "0f1e989e-0eb4-44ca-bb2c-d97d6afae246",
   "metadata": {},
   "outputs": [
    {
     "name": "stdout",
     "output_type": "stream",
     "text": [
      "Hello Phyton!\n"
     ]
    }
   ],
   "source": [
    "print(\"Hello Phyton!\")"
   ]
  },
  {
   "cell_type": "code",
   "execution_count": 4,
   "id": "e6ec71e1-0891-49c1-87c8-5176593f6e88",
   "metadata": {},
   "outputs": [
    {
     "name": "stdout",
     "output_type": "stream",
     "text": [
      "3.9.12 (main, Apr  5 2022, 06:56:58) \n",
      "[GCC 7.5.0]\n"
     ]
    }
   ],
   "source": [
    "# Check the Python Version\n",
    "\n",
    "# sys is a built-in module (before using sys, we must explictly import it)\n",
    "# sys contains many system-specific parameters and functions\n",
    "# sys also includes the Python version in use. \n",
    "\n",
    "import sys\n",
    "print(sys.version)"
   ]
  },
  {
   "cell_type": "code",
   "execution_count": 5,
   "id": "a8bc5402-98a2-4685-bb39-9f8fe6278704",
   "metadata": {},
   "outputs": [
    {
     "data": {
      "text/plain": [
       "sys.float_info(max=1.7976931348623157e+308, max_exp=1024, max_10_exp=308, min=2.2250738585072014e-308, min_exp=-1021, min_10_exp=-307, dig=15, mant_dig=53, epsilon=2.220446049250313e-16, radix=2, rounds=1)"
      ]
     },
     "execution_count": 5,
     "metadata": {},
     "output_type": "execute_result"
    }
   ],
   "source": [
    "# System settings about float type\n",
    "sys.float_info"
   ]
  },
  {
   "cell_type": "code",
   "execution_count": 6,
   "id": "05d49798-af73-4d22-92f3-19c68a968cf5",
   "metadata": {},
   "outputs": [
    {
     "data": {
      "text/plain": [
       "sys.int_info(bits_per_digit=30, sizeof_digit=4)"
      ]
     },
     "execution_count": 6,
     "metadata": {},
     "output_type": "execute_result"
    }
   ],
   "source": [
    "# System settings about integer type\n",
    "sys.int_info"
   ]
  },
  {
   "cell_type": "code",
   "execution_count": null,
   "id": "abac3e20-164e-45ff-9183-f8668d6112e7",
   "metadata": {},
   "outputs": [],
   "source": []
  }
 ],
 "metadata": {
  "kernelspec": {
   "display_name": "Python 3 (ipykernel)",
   "language": "python",
   "name": "python3"
  },
  "language_info": {
   "codemirror_mode": {
    "name": "ipython",
    "version": 3
   },
   "file_extension": ".py",
   "mimetype": "text/x-python",
   "name": "python",
   "nbconvert_exporter": "python",
   "pygments_lexer": "ipython3",
   "version": "3.9.12"
  }
 },
 "nbformat": 4,
 "nbformat_minor": 5
}
