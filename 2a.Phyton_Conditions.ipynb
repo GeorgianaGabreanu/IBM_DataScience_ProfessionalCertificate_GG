{
 "cells": [
  {
   "cell_type": "code",
   "execution_count": 3,
   "id": "a071a748-9d1f-4d8c-8145-f7fe2ebe716f",
   "metadata": {},
   "outputs": [
    {
     "data": {
      "text/plain": [
       "False"
      ]
     },
     "execution_count": 3,
     "metadata": {},
     "output_type": "execute_result"
    }
   ],
   "source": [
    "#assign a value for i\n",
    "i = 4\n",
    "\n",
    "#check if i is more than a certain value\n",
    "i > 7"
   ]
  },
  {
   "cell_type": "code",
   "execution_count": 4,
   "id": "b32d75d1-7b44-4ec3-889a-4a89c71f4f6a",
   "metadata": {},
   "outputs": [
    {
     "data": {
      "text/plain": [
       "False"
      ]
     },
     "execution_count": 4,
     "metadata": {},
     "output_type": "execute_result"
    }
   ],
   "source": [
    "#check if i is equal to a certain value\n",
    "i == 5"
   ]
  },
  {
   "cell_type": "code",
   "execution_count": 5,
   "id": "62a55f4e-bd0f-42af-b113-b12cffa07367",
   "metadata": {},
   "outputs": [
    {
     "data": {
      "text/plain": [
       "False"
      ]
     },
     "execution_count": 5,
     "metadata": {},
     "output_type": "execute_result"
    }
   ],
   "source": [
    "#inequality operator\n",
    "6!=6"
   ]
  },
  {
   "cell_type": "code",
   "execution_count": 4,
   "id": "681ff3b0-90db-4049-b45c-2c33e7d7b5ff",
   "metadata": {},
   "outputs": [
    {
     "name": "stdout",
     "output_type": "stream",
     "text": [
      "You have more than 60 years old. You may consider a routine screening for colon cancer!\n",
      "Consult with your GP for personalised advise\n"
     ]
    }
   ],
   "source": [
    "# Conditions\n",
    "age = 84\n",
    "if age > 60:\n",
    "    #within the indent, the expression prints only if the condition is true\n",
    "    print(\"You have more than 60 years old. You may consider a routine screening for colon cancer!\")\n",
    "#this expression prints regardless of the age (the indent makes the difference)\n",
    "print(\"Consult with your GP for personalised advise\")"
   ]
  },
  {
   "cell_type": "code",
   "execution_count": 11,
   "id": "4e49a295-d956-4a9c-9ac9-a3abb4f8d618",
   "metadata": {},
   "outputs": [
    {
     "name": "stdout",
     "output_type": "stream",
     "text": [
      "You drink more than 4 cups of coffee per day. You might want to consider a blood presure check!\n"
     ]
    }
   ],
   "source": [
    "cups_of_coffee_per_day = 5\n",
    "if cups_of_coffee_per_day > 4:\n",
    "    print (\"You drink more than 4 cups of coffee per day. You might want to consider a blood presure check!\")\n",
    "else:\n",
    "    print (\"Consult with your GP for personalised advise\")"
   ]
  },
  {
   "cell_type": "code",
   "execution_count": null,
   "id": "c9567f78-2f24-453c-9890-f7617cfc791d",
   "metadata": {},
   "outputs": [],
   "source": []
  }
 ],
 "metadata": {
  "kernelspec": {
   "display_name": "Python 3 (ipykernel)",
   "language": "python",
   "name": "python3"
  },
  "language_info": {
   "codemirror_mode": {
    "name": "ipython",
    "version": 3
   },
   "file_extension": ".py",
   "mimetype": "text/x-python",
   "name": "python",
   "nbconvert_exporter": "python",
   "pygments_lexer": "ipython3",
   "version": "3.9.12"
  }
 },
 "nbformat": 4,
 "nbformat_minor": 5
}
