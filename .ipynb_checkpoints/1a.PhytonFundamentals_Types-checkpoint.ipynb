{
 "cells": [
  {
   "cell_type": "code",
   "execution_count": null,
   "id": "73e70272-dfb3-47e5-ad27-4d4c5a74dd29",
   "metadata": {},
   "outputs": [],
   "source": [
    "#Phyton fundamentals - check the type: integer, float, string, boolean"
   ]
  },
  {
   "cell_type": "code",
   "execution_count": 5,
   "id": "1df534ee-0563-48ad-a46a-fcb9e3ed7720",
   "metadata": {},
   "outputs": [
    {
     "data": {
      "text/plain": [
       "int"
      ]
     },
     "execution_count": 5,
     "metadata": {},
     "output_type": "execute_result"
    }
   ],
   "source": [
    "type(12)"
   ]
  },
  {
   "cell_type": "code",
   "execution_count": 21,
   "id": "b2c70864-cf18-42c5-abbc-3f8d29f0b697",
   "metadata": {},
   "outputs": [
    {
     "data": {
      "text/plain": [
       "int"
      ]
     },
     "execution_count": 21,
     "metadata": {},
     "output_type": "execute_result"
    }
   ],
   "source": [
    "type(-12)"
   ]
  },
  {
   "cell_type": "code",
   "execution_count": 6,
   "id": "dcf4b039-a0fd-4a89-b4ee-9f9be1e48a58",
   "metadata": {},
   "outputs": [
    {
     "data": {
      "text/plain": [
       "float"
      ]
     },
     "execution_count": 6,
     "metadata": {},
     "output_type": "execute_result"
    }
   ],
   "source": [
    "type(12.60)"
   ]
  },
  {
   "cell_type": "code",
   "execution_count": 7,
   "id": "d0ea40c7-7c57-47a9-a2fb-ecd6e517052e",
   "metadata": {},
   "outputs": [
    {
     "data": {
      "text/plain": [
       "str"
      ]
     },
     "execution_count": 7,
     "metadata": {},
     "output_type": "execute_result"
    }
   ],
   "source": [
    "type(\"I'm learning Python\")"
   ]
  },
  {
   "cell_type": "code",
   "execution_count": 8,
   "id": "2197c76d-70f4-4a7c-ac84-38db648f59d0",
   "metadata": {},
   "outputs": [
    {
     "data": {
      "text/plain": [
       "int"
      ]
     },
     "execution_count": 8,
     "metadata": {},
     "output_type": "execute_result"
    }
   ],
   "source": [
    "type(0)"
   ]
  },
  {
   "cell_type": "code",
   "execution_count": 15,
   "id": "80538dc4-493d-4047-86fe-bdc3111d0b6a",
   "metadata": {},
   "outputs": [
    {
     "data": {
      "text/plain": [
       "bool"
      ]
     },
     "execution_count": 15,
     "metadata": {},
     "output_type": "execute_result"
    }
   ],
   "source": [
    "type(True)"
   ]
  },
  {
   "cell_type": "code",
   "execution_count": 16,
   "id": "2a0efd63-ca32-4159-9b2d-ca1372578ccb",
   "metadata": {},
   "outputs": [
    {
     "data": {
      "text/plain": [
       "bool"
      ]
     },
     "execution_count": 16,
     "metadata": {},
     "output_type": "execute_result"
    }
   ],
   "source": [
    "type(False)"
   ]
  },
  {
   "cell_type": "code",
   "execution_count": null,
   "id": "d9f5179c-f05d-4118-9af8-e3731c0256d7",
   "metadata": {},
   "outputs": [],
   "source": [
    "#Convert types"
   ]
  },
  {
   "cell_type": "code",
   "execution_count": 9,
   "id": "2f73000e-882f-4561-b3a0-24f87851a13a",
   "metadata": {},
   "outputs": [
    {
     "data": {
      "text/plain": [
       "12"
      ]
     },
     "execution_count": 9,
     "metadata": {},
     "output_type": "execute_result"
    }
   ],
   "source": [
    "#convert a float number into an integer. Be cautious, you will lose information\n",
    "int(12.60)"
   ]
  },
  {
   "cell_type": "code",
   "execution_count": 10,
   "id": "dae248e4-c38c-4191-ae47-9faf2fa3de89",
   "metadata": {},
   "outputs": [
    {
     "data": {
      "text/plain": [
       "'12.6'"
      ]
     },
     "execution_count": 10,
     "metadata": {},
     "output_type": "execute_result"
    }
   ],
   "source": [
    "#convert a float number into a string\n",
    "str(12.60)"
   ]
  },
  {
   "cell_type": "code",
   "execution_count": 11,
   "id": "7d071d8f-1c96-4c60-80a4-4109be1d856f",
   "metadata": {},
   "outputs": [
    {
     "data": {
      "text/plain": [
       "5.0"
      ]
     },
     "execution_count": 11,
     "metadata": {},
     "output_type": "execute_result"
    }
   ],
   "source": [
    "#convert an integer into a float\n",
    "float(5)"
   ]
  },
  {
   "cell_type": "code",
   "execution_count": 12,
   "id": "bf8574fe-a158-4985-afc4-f1885b6ac407",
   "metadata": {},
   "outputs": [
    {
     "data": {
      "text/plain": [
       "1"
      ]
     },
     "execution_count": 12,
     "metadata": {},
     "output_type": "execute_result"
    }
   ],
   "source": [
    "#convert a string into an integer\n",
    "int(\"1\")"
   ]
  },
  {
   "cell_type": "code",
   "execution_count": 14,
   "id": "4e2a6328-ea72-461b-aa72-bdb7cc9e8065",
   "metadata": {},
   "outputs": [
    {
     "ename": "ValueError",
     "evalue": "invalid literal for int() with base 10: 'ABC'",
     "output_type": "error",
     "traceback": [
      "\u001b[0;31m---------------------------------------------------------------------------\u001b[0m",
      "\u001b[0;31mValueError\u001b[0m                                Traceback (most recent call last)",
      "Input \u001b[0;32mIn [14]\u001b[0m, in \u001b[0;36m<cell line: 1>\u001b[0;34m()\u001b[0m\n\u001b[0;32m----> 1\u001b[0m \u001b[38;5;28;43mint\u001b[39;49m\u001b[43m(\u001b[49m\u001b[38;5;124;43m\"\u001b[39;49m\u001b[38;5;124;43mABC\u001b[39;49m\u001b[38;5;124;43m\"\u001b[39;49m\u001b[43m)\u001b[49m\n",
      "\u001b[0;31mValueError\u001b[0m: invalid literal for int() with base 10: 'ABC'"
     ]
    }
   ],
   "source": [
    "#if the string is not an integer, you'll get an error\n",
    "int(\"ABC\")"
   ]
  },
  {
   "cell_type": "code",
   "execution_count": null,
   "id": "0293f196-7274-4a84-ad46-2f43e26a82c9",
   "metadata": {},
   "outputs": [],
   "source": [
    "#convert Boolean into integer"
   ]
  },
  {
   "cell_type": "code",
   "execution_count": 17,
   "id": "7e41a1c3-b969-48c0-9893-991789bd7ab2",
   "metadata": {},
   "outputs": [
    {
     "data": {
      "text/plain": [
       "1"
      ]
     },
     "execution_count": 17,
     "metadata": {},
     "output_type": "execute_result"
    }
   ],
   "source": [
    "int(True)"
   ]
  },
  {
   "cell_type": "code",
   "execution_count": 18,
   "id": "b9ce0abf-d27a-4800-b742-faeb802650a1",
   "metadata": {},
   "outputs": [
    {
     "data": {
      "text/plain": [
       "0"
      ]
     },
     "execution_count": 18,
     "metadata": {},
     "output_type": "execute_result"
    }
   ],
   "source": [
    "int(False)"
   ]
  },
  {
   "cell_type": "code",
   "execution_count": 19,
   "id": "d390322c-df60-4749-a7c4-eee3f79ce095",
   "metadata": {},
   "outputs": [
    {
     "data": {
      "text/plain": [
       "True"
      ]
     },
     "execution_count": 19,
     "metadata": {},
     "output_type": "execute_result"
    }
   ],
   "source": [
    "bool(1)"
   ]
  },
  {
   "cell_type": "code",
   "execution_count": 20,
   "id": "b2393cf1-4cfc-4580-b8ff-28c4561ae424",
   "metadata": {},
   "outputs": [
    {
     "data": {
      "text/plain": [
       "False"
      ]
     },
     "execution_count": 20,
     "metadata": {},
     "output_type": "execute_result"
    }
   ],
   "source": [
    "bool(0)"
   ]
  },
  {
   "cell_type": "code",
   "execution_count": null,
   "id": "d8bea588-af72-4c99-b704-372bde9c9c6d",
   "metadata": {},
   "outputs": [],
   "source": []
  }
 ],
 "metadata": {
  "kernelspec": {
   "display_name": "Python 3 (ipykernel)",
   "language": "python",
   "name": "python3"
  },
  "language_info": {
   "codemirror_mode": {
    "name": "ipython",
    "version": 3
   },
   "file_extension": ".py",
   "mimetype": "text/x-python",
   "name": "python",
   "nbconvert_exporter": "python",
   "pygments_lexer": "ipython3",
   "version": "3.9.12"
  }
 },
 "nbformat": 4,
 "nbformat_minor": 5
}
