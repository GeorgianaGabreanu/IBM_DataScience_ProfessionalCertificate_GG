{
 "cells": [
  {
   "cell_type": "code",
   "execution_count": null,
   "id": "97951254-ef22-4c34-a1db-f7684872492b",
   "metadata": {},
   "outputs": [],
   "source": [
    "# Sets\n",
    "# unordered (they do not record element position)\n",
    "# they have unique elements\n"
   ]
  },
  {
   "cell_type": "code",
   "execution_count": 1,
   "id": "be7ad71b-6ce0-46a6-9586-909cda07046d",
   "metadata": {},
   "outputs": [],
   "source": [
    "set1 = {\"pacient1\", \"pacient2\", \"pacient3\"}"
   ]
  },
  {
   "cell_type": "code",
   "execution_count": 2,
   "id": "2ca2525c-7210-4729-836c-c8e79c4dbcd4",
   "metadata": {},
   "outputs": [
    {
     "data": {
      "text/plain": [
       "set"
      ]
     },
     "execution_count": 2,
     "metadata": {},
     "output_type": "execute_result"
    }
   ],
   "source": [
    "type(set1)"
   ]
  },
  {
   "cell_type": "code",
   "execution_count": 3,
   "id": "2c45e6ce-9d37-4219-889b-f2d1e12f61d6",
   "metadata": {},
   "outputs": [],
   "source": [
    "pacient_list = [\"pacient1\", \"pacient2\", \"pacient3\"]"
   ]
  },
  {
   "cell_type": "code",
   "execution_count": 4,
   "id": "134bc7c0-4784-40c8-b272-cbb729884138",
   "metadata": {},
   "outputs": [
    {
     "data": {
      "text/plain": [
       "list"
      ]
     },
     "execution_count": 4,
     "metadata": {},
     "output_type": "execute_result"
    }
   ],
   "source": [
    "type(pacient_list)"
   ]
  },
  {
   "cell_type": "code",
   "execution_count": 5,
   "id": "028e7675-8a04-484b-a3c8-a0119a0bb778",
   "metadata": {},
   "outputs": [],
   "source": [
    "pacient_set = set(pacient_list)"
   ]
  },
  {
   "cell_type": "code",
   "execution_count": 6,
   "id": "8947e9dd-ed92-4bbf-93b7-36650f7d16cb",
   "metadata": {},
   "outputs": [
    {
     "data": {
      "text/plain": [
       "set"
      ]
     },
     "execution_count": 6,
     "metadata": {},
     "output_type": "execute_result"
    }
   ],
   "source": [
    "type(pacient_set)"
   ]
  },
  {
   "cell_type": "code",
   "execution_count": 7,
   "id": "34277810-4db2-4090-a522-efb330058857",
   "metadata": {},
   "outputs": [],
   "source": [
    "# Set operations"
   ]
  },
  {
   "cell_type": "code",
   "execution_count": 8,
   "id": "ef820054-5862-4495-bf10-d3e841d835f8",
   "metadata": {},
   "outputs": [],
   "source": [
    "#Add an new element \n",
    "pacient_set.add(\"pacient4\")"
   ]
  },
  {
   "cell_type": "code",
   "execution_count": 9,
   "id": "633a7000-34f2-485c-be1e-442b81771649",
   "metadata": {},
   "outputs": [
    {
     "data": {
      "text/plain": [
       "{'pacient1', 'pacient2', 'pacient3', 'pacient4'}"
      ]
     },
     "execution_count": 9,
     "metadata": {},
     "output_type": "execute_result"
    }
   ],
   "source": [
    "pacient_set"
   ]
  },
  {
   "cell_type": "code",
   "execution_count": 10,
   "id": "66dabfa0-57ba-43ab-bce2-563dc214d95c",
   "metadata": {},
   "outputs": [],
   "source": [
    "#Remove an element\n",
    "pacient_set.remove(\"pacient1\")"
   ]
  },
  {
   "cell_type": "code",
   "execution_count": 11,
   "id": "bf04e96b-51cb-4c15-8150-1158041af0be",
   "metadata": {},
   "outputs": [
    {
     "data": {
      "text/plain": [
       "{'pacient2', 'pacient3', 'pacient4'}"
      ]
     },
     "execution_count": 11,
     "metadata": {},
     "output_type": "execute_result"
    }
   ],
   "source": [
    "pacient_set"
   ]
  },
  {
   "cell_type": "code",
   "execution_count": 12,
   "id": "4b8ecc78-e3ec-457b-924e-bb03eb479652",
   "metadata": {},
   "outputs": [
    {
     "data": {
      "text/plain": [
       "True"
      ]
     },
     "execution_count": 12,
     "metadata": {},
     "output_type": "execute_result"
    }
   ],
   "source": [
    "\"pacient3\" in pacient_set"
   ]
  },
  {
   "cell_type": "code",
   "execution_count": 13,
   "id": "7210e32d-50e7-4dd5-9ad5-258ac004d0ad",
   "metadata": {},
   "outputs": [
    {
     "data": {
      "text/plain": [
       "False"
      ]
     },
     "execution_count": 13,
     "metadata": {},
     "output_type": "execute_result"
    }
   ],
   "source": [
    "\"pacient6\" in pacient_set"
   ]
  },
  {
   "cell_type": "code",
   "execution_count": 22,
   "id": "c7fde3b9-afa4-43a7-afe1-386da7cb7a7c",
   "metadata": {},
   "outputs": [
    {
     "data": {
      "text/plain": [
       "{'pacient1', 'pacient2', 'pacient3'}"
      ]
     },
     "execution_count": 22,
     "metadata": {},
     "output_type": "execute_result"
    }
   ],
   "source": [
    "set1"
   ]
  },
  {
   "cell_type": "code",
   "execution_count": 15,
   "id": "b1c36519-5666-4dc1-a7b9-e2d5dc65d238",
   "metadata": {},
   "outputs": [],
   "source": [
    "set2 = {\"pacient2\", \"pacient3\", \"pacient6\", \"pacient7\"}"
   ]
  },
  {
   "cell_type": "code",
   "execution_count": 16,
   "id": "f8a8d055-21be-4673-aae3-60eae9633f2c",
   "metadata": {},
   "outputs": [
    {
     "data": {
      "text/plain": [
       "{'pacient2', 'pacient3', 'pacient6', 'pacient7'}"
      ]
     },
     "execution_count": 16,
     "metadata": {},
     "output_type": "execute_result"
    }
   ],
   "source": [
    "set2"
   ]
  },
  {
   "cell_type": "code",
   "execution_count": 17,
   "id": "8fa2c570-6ad4-4872-b3ac-2ceecc7aa855",
   "metadata": {},
   "outputs": [],
   "source": [
    "#See the intersection between the two sets\n",
    "common_pacients = set1 & set2"
   ]
  },
  {
   "cell_type": "code",
   "execution_count": 19,
   "id": "6e3d21f4-e851-46b0-a6ff-030ffdb8d490",
   "metadata": {},
   "outputs": [
    {
     "data": {
      "text/plain": [
       "{'pacient2', 'pacient3'}"
      ]
     },
     "execution_count": 19,
     "metadata": {},
     "output_type": "execute_result"
    }
   ],
   "source": [
    "common_pacients"
   ]
  },
  {
   "cell_type": "code",
   "execution_count": 23,
   "id": "23de0edf-467a-4ae7-ae6c-9c6644d86d78",
   "metadata": {},
   "outputs": [],
   "source": [
    "# Combine sets\n",
    "combined_set = set1.union(set2)"
   ]
  },
  {
   "cell_type": "code",
   "execution_count": 24,
   "id": "5a82364a-6e8b-4426-9fbf-c73a0fdde923",
   "metadata": {},
   "outputs": [
    {
     "data": {
      "text/plain": [
       "{'pacient1', 'pacient2', 'pacient3', 'pacient6', 'pacient7'}"
      ]
     },
     "execution_count": 24,
     "metadata": {},
     "output_type": "execute_result"
    }
   ],
   "source": [
    "combined_set"
   ]
  },
  {
   "cell_type": "code",
   "execution_count": 25,
   "id": "aca88c42-f1e1-49e4-bb80-0ff65137d1c6",
   "metadata": {},
   "outputs": [
    {
     "data": {
      "text/plain": [
       "True"
      ]
     },
     "execution_count": 25,
     "metadata": {},
     "output_type": "execute_result"
    }
   ],
   "source": [
    "#Check if a set is a subset of a new set\n",
    "set2.issubset(combined_set)"
   ]
  },
  {
   "cell_type": "code",
   "execution_count": 26,
   "id": "7a84db06-4359-46ba-a005-905793d746f8",
   "metadata": {},
   "outputs": [
    {
     "data": {
      "text/plain": [
       "False"
      ]
     },
     "execution_count": 26,
     "metadata": {},
     "output_type": "execute_result"
    }
   ],
   "source": [
    "{\"pacient9\"}.issubset(combined_set)"
   ]
  },
  {
   "cell_type": "code",
   "execution_count": null,
   "id": "d2755c05-40b0-4025-88ce-45c1f96bd0d0",
   "metadata": {},
   "outputs": [],
   "source": []
  }
 ],
 "metadata": {
  "kernelspec": {
   "display_name": "Python 3 (ipykernel)",
   "language": "python",
   "name": "python3"
  },
  "language_info": {
   "codemirror_mode": {
    "name": "ipython",
    "version": 3
   },
   "file_extension": ".py",
   "mimetype": "text/x-python",
   "name": "python",
   "nbconvert_exporter": "python",
   "pygments_lexer": "ipython3",
   "version": "3.9.12"
  }
 },
 "nbformat": 4,
 "nbformat_minor": 5
}
