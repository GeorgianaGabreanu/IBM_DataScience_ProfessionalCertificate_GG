{
 "cells": [
  {
   "cell_type": "code",
   "execution_count": 1,
   "id": "26672cd3-e995-44ab-84fa-36f053f6a3bc",
   "metadata": {},
   "outputs": [],
   "source": [
    "# Tuples - paranthesis\n",
    "# immutable\n",
    "pacient1 = (37, 'female', 'cardiovascular disease', 'non-smoking')"
   ]
  },
  {
   "cell_type": "code",
   "execution_count": 2,
   "id": "f8216b75-91ee-4326-b2ec-a40a32be6a9e",
   "metadata": {},
   "outputs": [
    {
     "data": {
      "text/plain": [
       "tuple"
      ]
     },
     "execution_count": 2,
     "metadata": {},
     "output_type": "execute_result"
    }
   ],
   "source": [
    "type(pacient1)"
   ]
  },
  {
   "cell_type": "code",
   "execution_count": 3,
   "id": "1fbc6369-ff77-4d4d-9e08-739dad9b1454",
   "metadata": {},
   "outputs": [
    {
     "data": {
      "text/plain": [
       "37"
      ]
     },
     "execution_count": 3,
     "metadata": {},
     "output_type": "execute_result"
    }
   ],
   "source": [
    "pacient1[0]"
   ]
  },
  {
   "cell_type": "code",
   "execution_count": 4,
   "id": "05f79437-df3a-44a2-bbc0-0dee2f8d0b58",
   "metadata": {},
   "outputs": [
    {
     "data": {
      "text/plain": [
       "'cardiovascular disease'"
      ]
     },
     "execution_count": 4,
     "metadata": {},
     "output_type": "execute_result"
    }
   ],
   "source": [
    "pacient1[2]"
   ]
  },
  {
   "cell_type": "code",
   "execution_count": 5,
   "id": "292b3af5-72ed-4281-9a0d-e38b42992b79",
   "metadata": {},
   "outputs": [
    {
     "data": {
      "text/plain": [
       "'non-smoking'"
      ]
     },
     "execution_count": 5,
     "metadata": {},
     "output_type": "execute_result"
    }
   ],
   "source": [
    "pacient1[3]"
   ]
  },
  {
   "cell_type": "code",
   "execution_count": 6,
   "id": "c084e36e-0404-4235-b773-311032f3cad6",
   "metadata": {},
   "outputs": [
    {
     "data": {
      "text/plain": [
       "4"
      ]
     },
     "execution_count": 6,
     "metadata": {},
     "output_type": "execute_result"
    }
   ],
   "source": [
    "#how many elements does the tuple have\n",
    "len(pacient1)"
   ]
  },
  {
   "cell_type": "code",
   "execution_count": 7,
   "id": "61148e3c-9026-4b1f-bfc3-96e79821ae00",
   "metadata": {},
   "outputs": [
    {
     "data": {
      "text/plain": [
       "'female'"
      ]
     },
     "execution_count": 7,
     "metadata": {},
     "output_type": "execute_result"
    }
   ],
   "source": [
    "#use negative index to extract data\n",
    "pacient1[-3]"
   ]
  },
  {
   "cell_type": "code",
   "execution_count": 8,
   "id": "576681a7-11f3-4be9-9d03-72b5cc09eed8",
   "metadata": {},
   "outputs": [
    {
     "data": {
      "text/plain": [
       "('cardiovascular disease', 'non-smoking')"
      ]
     },
     "execution_count": 8,
     "metadata": {},
     "output_type": "execute_result"
    }
   ],
   "source": [
    "pacient1[2:4]"
   ]
  },
  {
   "cell_type": "code",
   "execution_count": 9,
   "id": "b17c422e-6416-46d1-8c89-168788764382",
   "metadata": {},
   "outputs": [],
   "source": [
    "# Lists - squared brakets\n",
    "# mutable\n",
    "pacient2 = [52, 'male', 'pancreatic cancer', 'diabetes', 'smoking']"
   ]
  },
  {
   "cell_type": "code",
   "execution_count": 10,
   "id": "f1e56788-a763-4f5d-a790-e8a026b70d8e",
   "metadata": {},
   "outputs": [
    {
     "data": {
      "text/plain": [
       "list"
      ]
     },
     "execution_count": 10,
     "metadata": {},
     "output_type": "execute_result"
    }
   ],
   "source": [
    "type(pacient2)"
   ]
  },
  {
   "cell_type": "code",
   "execution_count": 11,
   "id": "41d93ca0-6dbb-4cc0-b907-03fa37a9c0df",
   "metadata": {},
   "outputs": [],
   "source": [
    "# Extend method on lists\n",
    "\n",
    "pacient2.extend(['vegetarian', 'no alchohol consumption'])\n",
    "                 \n"
   ]
  },
  {
   "cell_type": "code",
   "execution_count": 12,
   "id": "b850b172-077f-4755-aaf9-8804809c9e3b",
   "metadata": {},
   "outputs": [
    {
     "data": {
      "text/plain": [
       "[52,\n",
       " 'male',\n",
       " 'pancreatic cancer',\n",
       " 'diabetes',\n",
       " 'smoking',\n",
       " 'vegetarian',\n",
       " 'no alchohol consumption']"
      ]
     },
     "execution_count": 12,
     "metadata": {},
     "output_type": "execute_result"
    }
   ],
   "source": [
    "pacient2"
   ]
  },
  {
   "cell_type": "code",
   "execution_count": 13,
   "id": "8b678b5b-2f05-47b3-868a-348687f55764",
   "metadata": {},
   "outputs": [],
   "source": [
    "# Append method on lists\n",
    "\n",
    "pacient2.append(['anemia', 'low level of vit B12'])\n"
   ]
  },
  {
   "cell_type": "code",
   "execution_count": 14,
   "id": "fc2e5d71-54d7-4e68-9cc5-480d9a224eb6",
   "metadata": {},
   "outputs": [
    {
     "data": {
      "text/plain": [
       "[52,\n",
       " 'male',\n",
       " 'pancreatic cancer',\n",
       " 'diabetes',\n",
       " 'smoking',\n",
       " 'vegetarian',\n",
       " 'no alchohol consumption',\n",
       " ['anemia', 'low level of vit B12']]"
      ]
     },
     "execution_count": 14,
     "metadata": {},
     "output_type": "execute_result"
    }
   ],
   "source": [
    "pacient2"
   ]
  },
  {
   "cell_type": "code",
   "execution_count": 15,
   "id": "6aa8658e-729e-4fcf-bd55-ed880b7a5aea",
   "metadata": {},
   "outputs": [],
   "source": [
    "pacient2[6] = 'moderate alchohol consumption'"
   ]
  },
  {
   "cell_type": "code",
   "execution_count": 16,
   "id": "5e07948f-c128-4e68-a55f-e07c0e5d0b9d",
   "metadata": {},
   "outputs": [
    {
     "data": {
      "text/plain": [
       "[52,\n",
       " 'male',\n",
       " 'pancreatic cancer',\n",
       " 'diabetes',\n",
       " 'smoking',\n",
       " 'vegetarian',\n",
       " 'moderate alchohol consumption',\n",
       " ['anemia', 'low level of vit B12']]"
      ]
     },
     "execution_count": 16,
     "metadata": {},
     "output_type": "execute_result"
    }
   ],
   "source": [
    "pacient2"
   ]
  },
  {
   "cell_type": "code",
   "execution_count": 17,
   "id": "f0f0d23d-54c5-4077-8c71-479f42e2da36",
   "metadata": {},
   "outputs": [],
   "source": [
    "# delete an element\n",
    "\n",
    "del(pacient2[4])\n",
    "\n"
   ]
  },
  {
   "cell_type": "code",
   "execution_count": 18,
   "id": "2d6e0f13-88de-4579-bc7d-a7f29cfd964d",
   "metadata": {},
   "outputs": [
    {
     "data": {
      "text/plain": [
       "[52,\n",
       " 'male',\n",
       " 'pancreatic cancer',\n",
       " 'diabetes',\n",
       " 'vegetarian',\n",
       " 'moderate alchohol consumption',\n",
       " ['anemia', 'low level of vit B12']]"
      ]
     },
     "execution_count": 18,
     "metadata": {},
     "output_type": "execute_result"
    }
   ],
   "source": [
    "pacient2"
   ]
  },
  {
   "cell_type": "code",
   "execution_count": null,
   "id": "6fd54f83-e5d6-4951-ba8f-ea778776809e",
   "metadata": {},
   "outputs": [],
   "source": []
  }
 ],
 "metadata": {
  "kernelspec": {
   "display_name": "Python 3 (ipykernel)",
   "language": "python",
   "name": "python3"
  },
  "language_info": {
   "codemirror_mode": {
    "name": "ipython",
    "version": 3
   },
   "file_extension": ".py",
   "mimetype": "text/x-python",
   "name": "python",
   "nbconvert_exporter": "python",
   "pygments_lexer": "ipython3",
   "version": "3.9.12"
  }
 },
 "nbformat": 4,
 "nbformat_minor": 5
}
