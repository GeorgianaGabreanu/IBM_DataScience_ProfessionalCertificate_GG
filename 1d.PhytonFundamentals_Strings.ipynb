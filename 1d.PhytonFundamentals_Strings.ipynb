{
 "cells": [
  {
   "cell_type": "code",
   "execution_count": 11,
   "id": "b2a6e500-8d3e-458c-81d7-b55ee8e05c4e",
   "metadata": {},
   "outputs": [],
   "source": [
    "# String operations"
   ]
  },
  {
   "cell_type": "code",
   "execution_count": 1,
   "id": "18eb1cda-2411-49e1-a8e4-2e38d18508a1",
   "metadata": {},
   "outputs": [],
   "source": [
    "my_name = \"Phyton\""
   ]
  },
  {
   "cell_type": "code",
   "execution_count": 32,
   "id": "e1caa209-219c-42db-917a-47a2c218101a",
   "metadata": {},
   "outputs": [
    {
     "data": {
      "text/plain": [
       "6"
      ]
     },
     "execution_count": 32,
     "metadata": {},
     "output_type": "execute_result"
    }
   ],
   "source": [
    "len(my_name)"
   ]
  },
  {
   "cell_type": "code",
   "execution_count": 2,
   "id": "f8c81407-086a-4050-95ef-dcae51aa6b44",
   "metadata": {},
   "outputs": [
    {
     "data": {
      "text/plain": [
       "'P'"
      ]
     },
     "execution_count": 2,
     "metadata": {},
     "output_type": "execute_result"
    }
   ],
   "source": [
    "my_name[0]"
   ]
  },
  {
   "cell_type": "code",
   "execution_count": 3,
   "id": "d80f53e6-3739-4b35-8efc-f4102003c0a4",
   "metadata": {},
   "outputs": [
    {
     "data": {
      "text/plain": [
       "'n'"
      ]
     },
     "execution_count": 3,
     "metadata": {},
     "output_type": "execute_result"
    }
   ],
   "source": [
    "my_name[5]"
   ]
  },
  {
   "cell_type": "code",
   "execution_count": 4,
   "id": "44d65cca-bb14-4849-8bf1-e84636827d93",
   "metadata": {},
   "outputs": [
    {
     "data": {
      "text/plain": [
       "'y'"
      ]
     },
     "execution_count": 4,
     "metadata": {},
     "output_type": "execute_result"
    }
   ],
   "source": [
    "my_name[2]"
   ]
  },
  {
   "cell_type": "code",
   "execution_count": 13,
   "id": "b699007e-f19f-472b-805a-64630b1678a2",
   "metadata": {},
   "outputs": [
    {
     "data": {
      "text/plain": [
       "'n'"
      ]
     },
     "execution_count": 13,
     "metadata": {},
     "output_type": "execute_result"
    }
   ],
   "source": [
    "my_name[-1]"
   ]
  },
  {
   "cell_type": "code",
   "execution_count": 14,
   "id": "ae592640-81c6-41ad-9faf-742643709d77",
   "metadata": {},
   "outputs": [
    {
     "data": {
      "text/plain": [
       "'o'"
      ]
     },
     "execution_count": 14,
     "metadata": {},
     "output_type": "execute_result"
    }
   ],
   "source": [
    "my_name[-2]"
   ]
  },
  {
   "cell_type": "code",
   "execution_count": 18,
   "id": "a74ba623-cd52-451b-9820-1425cfd31986",
   "metadata": {},
   "outputs": [
    {
     "data": {
      "text/plain": [
       "'hyt'"
      ]
     },
     "execution_count": 18,
     "metadata": {},
     "output_type": "execute_result"
    }
   ],
   "source": [
    "my_name[1:4]"
   ]
  },
  {
   "cell_type": "code",
   "execution_count": 20,
   "id": "fa970474-b107-4c33-964a-4a80f6353a6f",
   "metadata": {},
   "outputs": [
    {
     "data": {
      "text/plain": [
       "'Pyo'"
      ]
     },
     "execution_count": 20,
     "metadata": {},
     "output_type": "execute_result"
    }
   ],
   "source": [
    "#return every second value\n",
    "my_name[::2]"
   ]
  },
  {
   "cell_type": "code",
   "execution_count": 21,
   "id": "714641e4-da81-44a8-920f-9f3165260df2",
   "metadata": {},
   "outputs": [
    {
     "data": {
      "text/plain": [
       "'Pt'"
      ]
     },
     "execution_count": 21,
     "metadata": {},
     "output_type": "execute_result"
    }
   ],
   "source": [
    "#return every third value\n",
    "my_name[::3]"
   ]
  },
  {
   "cell_type": "code",
   "execution_count": 28,
   "id": "70cb85e7-6728-47c9-bf49-eff30060b277",
   "metadata": {},
   "outputs": [
    {
     "data": {
      "text/plain": [
       "'Py'"
      ]
     },
     "execution_count": 28,
     "metadata": {},
     "output_type": "execute_result"
    }
   ],
   "source": [
    "#return every second value up to index 3\n",
    "my_name[0:4:2]"
   ]
  },
  {
   "cell_type": "code",
   "execution_count": 34,
   "id": "bdcb5cf5-9a05-4420-967d-6f41a1adb1b9",
   "metadata": {},
   "outputs": [],
   "source": [
    "name_description = \"Phyton is a programming language\""
   ]
  },
  {
   "cell_type": "code",
   "execution_count": 36,
   "id": "0b6f7e0f-791a-4009-8512-5f97ff588c0a",
   "metadata": {},
   "outputs": [
    {
     "data": {
      "text/plain": [
       "32"
      ]
     },
     "execution_count": 36,
     "metadata": {},
     "output_type": "execute_result"
    }
   ],
   "source": [
    "len(name_description)"
   ]
  },
  {
   "cell_type": "code",
   "execution_count": 35,
   "id": "c5a1ca07-1f68-4569-903a-9c869ab44d7c",
   "metadata": {},
   "outputs": [
    {
     "data": {
      "text/plain": [
       "'P'"
      ]
     },
     "execution_count": 35,
     "metadata": {},
     "output_type": "execute_result"
    }
   ],
   "source": [
    "name_description[0]"
   ]
  },
  {
   "cell_type": "code",
   "execution_count": 8,
   "id": "29cadc18-e8b0-410f-baa2-557d854aa379",
   "metadata": {},
   "outputs": [
    {
     "data": {
      "text/plain": [
       "' '"
      ]
     },
     "execution_count": 8,
     "metadata": {},
     "output_type": "execute_result"
    }
   ],
   "source": [
    "name_description[11]"
   ]
  },
  {
   "cell_type": "code",
   "execution_count": 9,
   "id": "dfc02737-fd36-47ce-b2fa-02313e52593f",
   "metadata": {},
   "outputs": [
    {
     "data": {
      "text/plain": [
       "'r'"
      ]
     },
     "execution_count": 9,
     "metadata": {},
     "output_type": "execute_result"
    }
   ],
   "source": [
    "name_description[13]"
   ]
  },
  {
   "cell_type": "code",
   "execution_count": 15,
   "id": "b886ab00-c206-4832-9c68-bf23ba05995a",
   "metadata": {},
   "outputs": [
    {
     "data": {
      "text/plain": [
       "'e'"
      ]
     },
     "execution_count": 15,
     "metadata": {},
     "output_type": "execute_result"
    }
   ],
   "source": [
    "name_description[-1]"
   ]
  },
  {
   "cell_type": "code",
   "execution_count": 16,
   "id": "a995d949-f9c8-4b30-9f84-583154298af5",
   "metadata": {},
   "outputs": [
    {
     "data": {
      "text/plain": [
       "'g'"
      ]
     },
     "execution_count": 16,
     "metadata": {},
     "output_type": "execute_result"
    }
   ],
   "source": [
    "name_description[-2]"
   ]
  },
  {
   "cell_type": "code",
   "execution_count": 19,
   "id": "1e870ccc-4789-402c-980a-ee12ed8e646a",
   "metadata": {},
   "outputs": [
    {
     "data": {
      "text/plain": [
       "' prog'"
      ]
     },
     "execution_count": 19,
     "metadata": {},
     "output_type": "execute_result"
    }
   ],
   "source": [
    "name_description[11:16]"
   ]
  },
  {
   "cell_type": "code",
   "execution_count": 22,
   "id": "bcab90e6-864b-4db7-9966-03c11c4cd7e1",
   "metadata": {},
   "outputs": [
    {
     "data": {
      "text/plain": [
       "'Pyo sapormiglnug'"
      ]
     },
     "execution_count": 22,
     "metadata": {},
     "output_type": "execute_result"
    }
   ],
   "source": [
    "#return every second value\n",
    "name_description[::2]"
   ]
  },
  {
   "cell_type": "code",
   "execution_count": 23,
   "id": "f55f6a0e-87f5-4aab-bb56-b534e90d6f09",
   "metadata": {},
   "outputs": [
    {
     "data": {
      "text/plain": [
       "'Pt  pgmnlgg'"
      ]
     },
     "execution_count": 23,
     "metadata": {},
     "output_type": "execute_result"
    }
   ],
   "source": [
    "#return every third value\n",
    "name_description[::3]"
   ]
  },
  {
   "cell_type": "code",
   "execution_count": 31,
   "id": "9935751c-8cdd-409c-9748-5915d475d79a",
   "metadata": {},
   "outputs": [
    {
     "data": {
      "text/plain": [
       "'Pyo sa'"
      ]
     },
     "execution_count": 31,
     "metadata": {},
     "output_type": "execute_result"
    }
   ],
   "source": [
    "#return every second value up to index 11\n",
    "name_description[0:12:2]"
   ]
  },
  {
   "cell_type": "code",
   "execution_count": 66,
   "id": "c52db759-4868-427a-ac8e-5e7f6588a78f",
   "metadata": {},
   "outputs": [],
   "source": [
    "my_statement = \"This is a data science project using \" + my_name + \". \" + name_description"
   ]
  },
  {
   "cell_type": "code",
   "execution_count": 67,
   "id": "e82d11dd-8bff-4a02-8d21-d78add9abbdf",
   "metadata": {},
   "outputs": [
    {
     "data": {
      "text/plain": [
       "'This is a data science project using Phyton. Phyton is a programming language'"
      ]
     },
     "execution_count": 67,
     "metadata": {},
     "output_type": "execute_result"
    }
   ],
   "source": [
    "my_statement"
   ]
  },
  {
   "cell_type": "code",
   "execution_count": 73,
   "id": "56b008d9-c81a-48b3-8e2d-29a9a7d3b42e",
   "metadata": {},
   "outputs": [],
   "source": [
    "# String Methods"
   ]
  },
  {
   "cell_type": "code",
   "execution_count": 68,
   "id": "c89e6dad-a398-4f8f-a835-6fc14e4e3a67",
   "metadata": {},
   "outputs": [
    {
     "data": {
      "text/plain": [
       "'Phyton is a programming language'"
      ]
     },
     "execution_count": 68,
     "metadata": {},
     "output_type": "execute_result"
    }
   ],
   "source": [
    "name_description"
   ]
  },
  {
   "cell_type": "code",
   "execution_count": 69,
   "id": "f1861703-16c0-4fcf-a6c5-38f7d31db58b",
   "metadata": {},
   "outputs": [
    {
     "data": {
      "text/plain": [
       "'PHYTON IS A PROGRAMMING LANGUAGE'"
      ]
     },
     "execution_count": 69,
     "metadata": {},
     "output_type": "execute_result"
    }
   ],
   "source": [
    "name_description.upper()"
   ]
  },
  {
   "cell_type": "code",
   "execution_count": 70,
   "id": "d4b2401a-4e28-4148-961f-b4bd7bceed9d",
   "metadata": {},
   "outputs": [
    {
     "data": {
      "text/plain": [
       "'Phyton is a programming language'"
      ]
     },
     "execution_count": 70,
     "metadata": {},
     "output_type": "execute_result"
    }
   ],
   "source": [
    "name_description"
   ]
  },
  {
   "cell_type": "code",
   "execution_count": 71,
   "id": "93fda474-4bfb-479a-8eae-1c0a428cb207",
   "metadata": {},
   "outputs": [
    {
     "data": {
      "text/plain": [
       "'Java is a programming language'"
      ]
     },
     "execution_count": 71,
     "metadata": {},
     "output_type": "execute_result"
    }
   ],
   "source": [
    "name_description.replace(\"Phyton\", \"Java\")"
   ]
  },
  {
   "cell_type": "code",
   "execution_count": 72,
   "id": "2dc0eba9-427e-4bed-b960-5c26dcb7f3ce",
   "metadata": {},
   "outputs": [
    {
     "data": {
      "text/plain": [
       "7"
      ]
     },
     "execution_count": 72,
     "metadata": {},
     "output_type": "execute_result"
    }
   ],
   "source": [
    "#the output is the first index of the sequence\n",
    "name_description.find(\"is\")"
   ]
  }
 ],
 "metadata": {
  "kernelspec": {
   "display_name": "Python 3 (ipykernel)",
   "language": "python",
   "name": "python3"
  },
  "language_info": {
   "codemirror_mode": {
    "name": "ipython",
    "version": 3
   },
   "file_extension": ".py",
   "mimetype": "text/x-python",
   "name": "python",
   "nbconvert_exporter": "python",
   "pygments_lexer": "ipython3",
   "version": "3.9.12"
  }
 },
 "nbformat": 4,
 "nbformat_minor": 5
}
